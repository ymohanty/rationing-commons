{
 "cells": [
  {
   "cell_type": "code",
   "execution_count": 140,
   "metadata": {},
   "outputs": [],
   "source": [
    "from openpyxl import *\n",
    "import sys\n",
    "import matplotlib.pyplot as plt\n",
    "import matplotlib.mlab as mlab\n",
    "import os.path\n",
    "from datetime import datetime\n",
    "import pandas as pd\n",
    "import seaborn as sns\n",
    "\n",
    "\n",
    "# Some helpful functions that calculate the\n",
    "# the number of years between two dates.\n",
    "def yearsago(years, from_date=None):\n",
    "    if from_date is None:\n",
    "        from_date = datetime.now()\n",
    "    try:\n",
    "        return from_date.replace(year=from_date.year - years)\n",
    "    except ValueError:\n",
    "        # Must be 2/29!\n",
    "        assert from_date.month == 2 and from_date.day == 29 # can be removed\n",
    "        return from_date.replace(month=2, day=28,\n",
    "                                 year=from_date.year-years)\n",
    "    \n",
    "def num_years(begin, end=None):\n",
    "    if end is None:\n",
    "        end = datetime.now()\n",
    "    num_years = int((end - begin).days / 365.25)\n",
    "    if begin > yearsago(num_years, end):\n",
    "        return num_years - 1\n",
    "    else:\n",
    "        return num_years\n",
    "    \n",
    "def diff_month(begin, end):\n",
    "    return (end.year - begin.year) * 12 + end.month - begin.month"
   ]
  },
  {
   "cell_type": "code",
   "execution_count": 141,
   "metadata": {},
   "outputs": [],
   "source": [
    "\n",
    "if sys.platform == \"darwin\" or sys.platform == \"linux\" or sys.platform == \"linux2\":\n",
    "        project_root = os.path.expanduser(\"~\") + \"/Dropbox/water_scarcity/\"\n",
    "elif sys.platform == \"win32\":\n",
    "        project_root = os.path.expanduser(\"~\") + \"\\\\Dropbox\\\\water_scarcity\\\\\"\n",
    "else:\n",
    "    print(\"OS %s not supported\" % sys.platform)\n",
    "    exit(-1)\n",
    "\n",
    "\n",
    "# Generate data path\n",
    "consumer_data_path = project_root + os.path.join(\"analysis\", \"data\", \"pending_consumers\", \"raw\")\n",
    "\n",
    "# Output path\n",
    "output_path = project_root + os.path.join(\"analysis\", \"output\", \"figures\")\n",
    "\n",
    "# Output data path\n",
    "output_data_path = project_root + os.path.join(\"analysis\", \"data\", \"pending_consumers\", \"clean\")\n",
    "\n",
    "# Set up file paths\n",
    "paths = [consumer_data_path + \"/bansur.xlsx\",\n",
    "             consumer_data_path + \"/mundawar.xlsx\",\n",
    "             consumer_data_path + \"/nainwa.xls\",\n",
    "             consumer_data_path + \"/hindoli.xlsx\"]\n",
    "\n",
    "# worksheets\n",
    "mundawar_worksheet = load_workbook(paths[1])[\"Sheet1\"]\n",
    "hindoli_worksheet = load_workbook(paths[3])[\"Sheet1\"]"
   ]
  },
  {
   "cell_type": "code",
   "execution_count": 142,
   "metadata": {},
   "outputs": [],
   "source": [
    "date_applied_mundawar = mundawar_worksheet[\"J\"] \n",
    "date_applied_mundawar = [date.value for date in date_applied_mundawar][3:-1]\n",
    "\n",
    "date_received_mundawar = mundawar_worksheet[\"K\"]\n",
    "date_received_mundawar = [date.value for date in date_received_mundawar][3:-1]\n",
    "\n",
    "date_applied_hindoli = hindoli_worksheet[\"C\"]\n",
    "date_applied_hindoli = [date.value for date in date_applied_hindoli if date.value is not None][2:-1]\n",
    "date_applied_hindoli = [datetime.strptime(date,'%d.%m.%y') for date in date_applied_hindoli]\n",
    "\n",
    "date_received_hindoli = hindoli_worksheet[\"J\"]\n",
    "date_received_hindoli = [date.value for date in date_received_hindoli if date.value is not None][2:-1]\n",
    "date_received_hindoli = [datetime.strptime(date,'%d.%m.%y') for date in date_received_hindoli]\n",
    "\n",
    "date_applied = date_applied_mundawar + date_applied_hindoli\n",
    "date_received = date_received_mundawar + date_received_hindoli\n",
    "\n",
    "time_in_years = [num_years(begin,end) for begin, end in zip(date_applied, date_received)]\n",
    "time_in_months = [diff_month(begin,end) for begin, end in zip(date_applied, date_received)]\n",
    "\n",
    "pd.DataFrame.from_dict({'months':time_in_months,'years':time_in_years}).to_stata(output_data_path + '/waiting_times_all.dta',write_index=False)"
   ]
  },
  {
   "cell_type": "code",
   "execution_count": 154,
   "metadata": {},
   "outputs": [
    {
     "data": {
      "image/png": "[encoded data removed]",
      "text/plain": [
       "<Figure size 432x288 with 1 Axes>"
      ]
     },
     "metadata": {},
     "output_type": "display_data"
    }
   ],
   "source": []
  },
  {
   "cell_type": "code",
   "execution_count": null,
   "metadata": {},
   "outputs": [],
   "source": []
  }
 ],
 "metadata": {
  "kernelspec": {
   "display_name": "Python 3",
   "language": "python",
   "name": "python3"
  },
  "language_info": {
   "codemirror_mode": {
    "name": "ipython",
    "version": 3
   },
   "file_extension": ".py",
   "mimetype": "text/x-python",
   "name": "python",
   "nbconvert_exporter": "python",
   "pygments_lexer": "ipython3",
   "version": "3.7.1"
  }
 },
 "nbformat": 4,
 "nbformat_minor": 2
}
